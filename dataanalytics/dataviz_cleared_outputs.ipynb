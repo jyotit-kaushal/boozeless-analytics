{
 "cells": [
  {
   "cell_type": "code",
   "execution_count": null,
   "metadata": {},
   "outputs": [],
   "source": [
    "# all necessary imports\n",
    "import json\n",
    "import csv\n",
    "import pandas as pd\n",
    "\n",
    "from transformers import pipeline\n",
    "import torch\n",
    "import torch.nn.functional as F\n",
    "from transformers import AutoTokenizer, AutoModelForSequenceClassification\n",
    "from transformers import LongformerTokenizer, LongformerForSequenceClassification, EncoderDecoderModel, LongformerConfig, LongformerTokenizerFast\n",
    "import numpy as np\n",
    "import matplotlib.pyplot as plt\n",
    "from textblob import TextBlob\n",
    "\n",
    "import seaborn as sns\n",
    "import matplotlib.pyplot as plt"
   ]
  },
  {
   "cell_type": "code",
   "execution_count": null,
   "metadata": {},
   "outputs": [],
   "source": [
    "df= pd.read_csv('/Users/jyotit-kaushal/github/boozeless-analytics/data/singapore_processed_dataset.csv')"
   ]
  },
  {
   "cell_type": "code",
   "execution_count": null,
   "metadata": {},
   "outputs": [],
   "source": [
    "df.info()"
   ]
  },
  {
   "cell_type": "code",
   "execution_count": null,
   "metadata": {},
   "outputs": [],
   "source": [
    "# pivot table for venue_segment\n",
    "pivot_table_venueseg = pd.pivot_table(df, \n",
    "                            index='venue_segment', \n",
    "                            aggfunc='size', \n",
    "                            fill_value=0)\n",
    "\n",
    "print(pivot_table_venueseg)"
   ]
  },
  {
   "cell_type": "code",
   "execution_count": null,
   "metadata": {},
   "outputs": [],
   "source": [
    "# sns.theme(palette= \"#FF5B00\")\n",
    "segment_counts = df['venue_segment'].value_counts()\n",
    "\n",
    "plt.figure(figsize=(8, 5))\n",
    "barplot = sns.barplot(x=segment_counts.values, y=segment_counts.index, palette=\"Oranges\", orient='horizontal')\n",
    "plt.title('Number of Entries by Venue Segment', fontsize=14)\n",
    "plt.xlabel('Count', fontsize=12)\n",
    "plt.ylabel('Venue Segment', fontsize=12)\n",
    "plt.xticks(fontsize=10)\n",
    "plt.yticks(fontsize=10)\n",
    "\n",
    "for i, count in enumerate(segment_counts.values):\n",
    "    barplot.text(count, i, f' {count}', va='center', fontsize=10)\n",
    "\n",
    "plt.tight_layout()\n",
    "plt.show()\n"
   ]
  },
  {
   "cell_type": "code",
   "execution_count": null,
   "metadata": {},
   "outputs": [],
   "source": [
    "excluded_segments = [\"Bar\", \"Entertainment\", \"Non Alcoholic\", \"Restaurant\"]\n",
    "df = df[df[\"venue_segment\"].isin(excluded_segments)]\n",
    "\n",
    "df.shape"
   ]
  },
  {
   "cell_type": "code",
   "execution_count": null,
   "metadata": {},
   "outputs": [],
   "source": [
    "segment_counts = df['venue_segment'].value_counts()\n",
    "\n",
    "plt.figure(figsize=(8, 5))\n",
    "barplot = sns.barplot(x=segment_counts.values, y=segment_counts.index, palette=\"Oranges\", orient='horizontal')\n",
    "plt.title('Number of Entries by Venue Segment', fontsize=14)\n",
    "plt.xlabel('Count', fontsize=12)\n",
    "plt.ylabel('Venue Segment', fontsize=12)\n",
    "plt.xticks(fontsize=10)\n",
    "plt.yticks(fontsize=10)\n",
    "\n",
    "for i, count in enumerate(segment_counts.values):\n",
    "    barplot.text(count, i, f' {count}', va='center', fontsize=10)\n",
    "\n",
    "plt.tight_layout()\n",
    "plt.show()"
   ]
  },
  {
   "cell_type": "code",
   "execution_count": null,
   "metadata": {},
   "outputs": [],
   "source": [
    "sns.set_style(\"whitegrid\")\n",
    "df_temp= pd.read_json('/Users/jyotit-kaushal/github/boozeless-analytics/data/singapore_geo_dataset.json')\n",
    "# Create a box plot\n",
    "plt.figure(figsize=(8, 5))\n",
    "sns.boxplot(x=df_temp['average_rating'], color='#FF5B00')\n",
    "plt.title('Distribution of Average Ratings', fontsize=14)\n",
    "plt.xlabel('Average Review Rating', fontsize=12)\n",
    "plt.ylabel('Frequency', fontsize=12)\n",
    "plt.xticks(fontsize=10)\n",
    "plt.yticks(fontsize=10)\n",
    "plt.tight_layout()\n",
    "plt.show()"
   ]
  },
  {
   "cell_type": "code",
   "execution_count": null,
   "metadata": {},
   "outputs": [],
   "source": [
    "sns.set_style(\"whitegrid\")\n",
    "\n",
    "# Create a box plot\n",
    "plt.figure(figsize=(8, 5))\n",
    "sns.boxplot(x=df['bayesian_weighted_rating'], color='#FF5B00')\n",
    "plt.title('Distribution of Bayesian Weighted Ratings', fontsize=14)\n",
    "plt.xlabel('Bayesian Weighted Rating', fontsize=12)\n",
    "plt.ylabel('Frequency', fontsize=12)\n",
    "plt.xticks(fontsize=10)\n",
    "plt.yticks(fontsize=10)\n",
    "plt.tight_layout()\n",
    "plt.show()"
   ]
  },
  {
   "cell_type": "code",
   "execution_count": null,
   "metadata": {},
   "outputs": [],
   "source": [
    "df = df[df['bayesian_weighted_rating'] >= 4]\n",
    "df.shape"
   ]
  },
  {
   "cell_type": "code",
   "execution_count": null,
   "metadata": {},
   "outputs": [],
   "source": [
    "pricepoints= df['price_point_bucket'].tolist()\n",
    "\n",
    "def change_to_symbols(lst):\n",
    "    symbols = {'$': 'Inexpensive', '$$': 'Moderate', '$$$': 'Expensive', '$$$$':'Very Expensive'}\n",
    "    result = []\n",
    "\n",
    "    for value in lst:\n",
    "        if value in symbols:\n",
    "            result.append(symbols[value])\n",
    "        else:\n",
    "            result.append(value)\n",
    "\n",
    "    return result\n",
    "\n",
    "df['price_point_bucket']= change_to_symbols(pricepoints)\n",
    "\n",
    "pricepoint_counts = df['price_point_bucket'].value_counts()\n",
    "\n",
    "plt.figure(figsize=(8, 5))\n",
    "barplot = sns.barplot(x=pricepoint_counts.values, y=pricepoint_counts.index, palette=\"rocket\", orient='horizontal')\n",
    "plt.title('Number of Entries by Venue Segment', fontsize=14)\n",
    "plt.xlabel('Count', fontsize=12)\n",
    "plt.ylabel('Venue Segment', fontsize=12)\n",
    "plt.xticks(fontsize=10)\n",
    "plt.yticks(fontsize=10)\n",
    "\n",
    "for i, count in enumerate(pricepoint_counts.values):\n",
    "    barplot.text(count, i, f' {count}', va='center', fontsize=10)\n",
    "\n",
    "plt.tight_layout()\n",
    "plt.show()"
   ]
  },
  {
   "cell_type": "code",
   "execution_count": null,
   "metadata": {},
   "outputs": [],
   "source": [
    "# pivot table for price_point_bucket\n",
    "pivot_table_pricepoint = pd.pivot_table(df, \n",
    "                            index='price_point_bucket', \n",
    "                            aggfunc='size', \n",
    "                            fill_value=0)\n",
    "\n",
    "print(pivot_table_pricepoint)"
   ]
  },
  {
   "cell_type": "code",
   "execution_count": null,
   "metadata": {},
   "outputs": [],
   "source": [
    "included_price_points= ['Expensive', 'Very Expensive']\n",
    "df= df[df['price_point_bucket'].isin(included_price_points)]\n",
    "\n",
    "df.shape"
   ]
  },
  {
   "cell_type": "code",
   "execution_count": null,
   "metadata": {},
   "outputs": [],
   "source": [
    "df_boozeless= pd.read_csv('/Users/jyotit-kaushal/github/boozeless-analytics/data/restaurants_sorted_boozeless.csv')\n"
   ]
  },
  {
   "cell_type": "code",
   "execution_count": null,
   "metadata": {},
   "outputs": [],
   "source": [
    "import folium\n",
    "\n",
    "# Create a map centered around the mean latitude and longitude\n",
    "map_center = [df_boozeless['latitude'].mean(), df_boozeless['longitude'].mean()]\n",
    "mymap = folium.Map(location=map_center, zoom_start=12)\n",
    "\n",
    "# Iterate over the DataFrame rows and add markers to the map\n",
    "for index, row in df_boozeless.iterrows():\n",
    "    folium.Marker(\n",
    "        location=[row['latitude'], row['longitude']],\n",
    "        popup=row['venue_name'],\n",
    "        icon=folium.Icon(color='blue' if row['boozeless_rating'] == 'blue' else 'green' if row['boozeless_rating'] == 'green' else 'red')\n",
    "    ).add_to(mymap)\n",
    "\n",
    "# Display the map\n",
    "mymap\n"
   ]
  },
  {
   "cell_type": "code",
   "execution_count": null,
   "metadata": {},
   "outputs": [],
   "source": [
    "import folium\n",
    "from folium.plugins import MarkerCluster\n",
    "import matplotlib.pyplot as plt\n",
    "from matplotlib.colors import Normalize\n",
    "from matplotlib.cm import ScalarMappable\n",
    "\n",
    "# Function to convert boozeless_rating to color\n",
    "def rating_to_color(rating):\n",
    "    # Define colormap and normalization\n",
    "    cmap = plt.cm.get_cmap('viridis')\n",
    "    norm = Normalize(vmin=df_boozeless['boozeless_rating'].min(), vmax=df_boozeless['boozeless_rating'].max())\n",
    "    # Map rating to color\n",
    "    color = cmap(norm(rating))\n",
    "    # Convert RGBA color to hex\n",
    "    return plt.colors.rgb2hex(color)\n",
    "\n",
    "# Create a map centered around the mean latitude and longitude\n",
    "map_center = [df_boozeless['latitude'].mean(), df_boozeless['longitude'].mean()]\n",
    "mymap = folium.Map(location=map_center, zoom_start=12)\n",
    "\n",
    "# Create marker cluster for better performance with large datasets\n",
    "marker_cluster = MarkerCluster().add_to(mymap)\n",
    "\n",
    "# Iterate over the DataFrame rows and add markers to the map\n",
    "for index, row in df_boozeless.iterrows():\n",
    "    folium.Marker(\n",
    "        location=[row['latitude'], row['longitude']],\n",
    "        popup=row['venue_name'],\n",
    "        icon=folium.Icon(color=rating_to_color(row['boozeless_rating']), icon='info-sign')\n",
    "    ).add_to(marker_cluster)\n",
    "\n",
    "# Display the map\n",
    "mymap\n"
   ]
  },
  {
   "cell_type": "code",
   "execution_count": null,
   "metadata": {},
   "outputs": [],
   "source": [
    "import folium\n",
    "from folium.plugins import MarkerCluster\n",
    "from matplotlib import colors\n",
    "from matplotlib.cm import ScalarMappable\n",
    "\n",
    "# Function to convert boozeless_rating to color\n",
    "def rating_to_color(rating):\n",
    "    # Define colormap and normalization\n",
    "    cmap = plt.cm.get_cmap('viridis')\n",
    "    norm = colors.Normalize(vmin=df_boozeless['boozeless_rating'].min(), vmax=df_boozeless['boozeless_rating'].max())\n",
    "    # Map rating to color\n",
    "    color = cmap(norm(rating))\n",
    "    # Convert RGBA color to hex\n",
    "    return colors.rgb2hex(color)\n",
    "\n",
    "# Create a map centered around the mean latitude and longitude\n",
    "map_center = [df_boozeless['latitude'].mean(), df_boozeless['longitude'].mean()]\n",
    "mymap = folium.Map(location=map_center, zoom_start=12)\n",
    "\n",
    "# Create marker cluster for better performance with large datasets\n",
    "marker_cluster = MarkerCluster().add_to(mymap)\n",
    "\n",
    "# Iterate over the DataFrame rows and add markers to the map\n",
    "for index, row in df_boozeless.iterrows():\n",
    "    folium.Marker(\n",
    "        location=[row['latitude'], row['longitude']],\n",
    "        popup=row['venue_name'],\n",
    "        icon=folium.Icon(color=rating_to_color(row['boozeless_rating']), icon='info-sign')\n",
    "    ).add_to(marker_cluster)\n",
    "\n",
    "# Display the map\n",
    "mymap\n"
   ]
  },
  {
   "cell_type": "code",
   "execution_count": null,
   "metadata": {},
   "outputs": [],
   "source": [
    "import folium\n",
    "\n",
    "# Function to convert boozeless_rating to color\n",
    "def rating_to_color(rating):\n",
    "    # Map rating to a color gradient\n",
    "    color = (int(255 * (1 - rating)), int(255 * rating), 0)  # R: from 255 to 0, G: from 0 to 255, B: constant 0\n",
    "    # Convert to hex format\n",
    "    return '#{:02x}{:02x}{:02x}'.format(*color)\n",
    "\n",
    "# Create a map centered around the mean latitude and longitude\n",
    "map_center = [df_boozeless['latitude'].mean(), df_boozeless['longitude'].mean()]\n",
    "mymap = folium.Map(location=map_center, zoom_start=12)\n",
    "\n",
    "# Iterate over the DataFrame rows and add markers to the map\n",
    "for index, row in df_boozeless.iterrows():\n",
    "    folium.Marker(\n",
    "        location=[row['latitude'], row['longitude']],\n",
    "        popup=row['venue_name'],\n",
    "        icon=folium.Icon(color=rating_to_color(row['boozeless_rating']), icon='info-sign')\n",
    "    ).add_to(mymap)\n",
    "\n",
    "# Display the map\n",
    "mymap\n"
   ]
  }
 ],
 "metadata": {
  "kernelspec": {
   "display_name": "datasci",
   "language": "python",
   "name": "python3"
  },
  "language_info": {
   "codemirror_mode": {
    "name": "ipython",
    "version": 3
   },
   "file_extension": ".py",
   "mimetype": "text/x-python",
   "name": "python",
   "nbconvert_exporter": "python",
   "pygments_lexer": "ipython3",
   "version": "3.12.1"
  }
 },
 "nbformat": 4,
 "nbformat_minor": 2
}
