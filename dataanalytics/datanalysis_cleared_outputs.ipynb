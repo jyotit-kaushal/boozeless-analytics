{
 "cells": [
  {
   "cell_type": "code",
   "execution_count": null,
   "metadata": {},
   "outputs": [],
   "source": [
    "# all necessary imports\n",
    "import json\n",
    "import csv\n",
    "import pandas as pd\n",
    "\n",
    "from transformers import pipeline\n",
    "import torch\n",
    "import torch.nn.functional as F\n",
    "from transformers import AutoTokenizer, AutoModelForSequenceClassification\n",
    "from transformers import LongformerTokenizer, LongformerForSequenceClassification, EncoderDecoderModel, LongformerConfig, LongformerTokenizerFast\n",
    "import numpy as np\n",
    "import matplotlib.pyplot as plt\n",
    "from textblob import TextBlob"
   ]
  },
  {
   "cell_type": "code",
   "execution_count": null,
   "metadata": {},
   "outputs": [],
   "source": [
    "# importing the dataset from json\n",
    "df= pd.read_csv('/Users/jyotit-kaushal/github/boozeless-analytics/data/singapore_processed_dataset.csv')"
   ]
  },
  {
   "cell_type": "code",
   "execution_count": null,
   "metadata": {},
   "outputs": [],
   "source": [
    "df.info()"
   ]
  },
  {
   "cell_type": "code",
   "execution_count": null,
   "metadata": {},
   "outputs": [],
   "source": [
    "# pivot table for venue_segment\n",
    "pivot_table_venueseg = pd.pivot_table(df, \n",
    "                            index='venue_segment', \n",
    "                            aggfunc='size', \n",
    "                            fill_value=0)\n",
    "\n",
    "print(pivot_table_venueseg)"
   ]
  },
  {
   "cell_type": "code",
   "execution_count": null,
   "metadata": {},
   "outputs": [],
   "source": [
    "excluded_segments = [\"Bar\", \"Entertainment\", \"Non Alcoholic\", \"Restaurant\"]\n",
    "df = df[df[\"venue_segment\"].isin(excluded_segments)]\n",
    "\n",
    "df.shape"
   ]
  },
  {
   "cell_type": "code",
   "execution_count": null,
   "metadata": {},
   "outputs": [],
   "source": [
    "df = df[df['bayesian_weighted_rating'] >= 4]\n",
    "df.shape"
   ]
  },
  {
   "cell_type": "code",
   "execution_count": null,
   "metadata": {},
   "outputs": [],
   "source": [
    "# pivot table for price_point_bucket\n",
    "pivot_table_pricepoint = pd.pivot_table(df, \n",
    "                            index='price_point_bucket', \n",
    "                            aggfunc='size', \n",
    "                            fill_value=0)\n",
    "\n",
    "print(pivot_table_pricepoint)"
   ]
  },
  {
   "cell_type": "code",
   "execution_count": null,
   "metadata": {},
   "outputs": [],
   "source": [
    "excluded_price_points= ['$$$', '$$$$']\n",
    "df= df[df['price_point_bucket'].isin(excluded_price_points)]\n",
    "\n",
    "df.shape"
   ]
  },
  {
   "cell_type": "code",
   "execution_count": null,
   "metadata": {},
   "outputs": [],
   "source": [
    "# df.to_csv(\"/Users/jyotit-kaushal/github/boozeless-analytics/data/singapore_processed_dataset_1761.csv\", index= False)"
   ]
  },
  {
   "cell_type": "code",
   "execution_count": null,
   "metadata": {},
   "outputs": [],
   "source": [
    "boozeless_rating= [0]*len(df)\n",
    "def normalize_list(lst):\n",
    "    min_val = min(lst)\n",
    "    max_val = max(lst)\n",
    "    normalized_list = [(x - min_val) / (max_val - min_val) for x in lst]\n",
    "    return normalized_list\n"
   ]
  },
  {
   "cell_type": "code",
   "execution_count": null,
   "metadata": {},
   "outputs": [],
   "source": [
    "# checking types_of_alcohol available\n",
    "\n",
    "toa_index = df.columns.get_loc('types_of_alcohol')\n",
    "\n",
    "\n",
    "for i in range(len(df)):\n",
    "    # print(df.iloc[i, toa_index])\n",
    "    if type(df.iloc[i, toa_index])==str:\n",
    "        if 'hard_liquor' in df.iloc[i, toa_index]:\n",
    "            boozeless_rating[i]+=1\n",
    "        else:\n",
    "            pass\n",
    "        if 'cocktails' in df.iloc[i, toa_index]:\n",
    "            boozeless_rating[i]+=1\n",
    "        else:\n",
    "            pass\n",
    "    else:\n",
    "        pass\n",
    "\n",
    "\n",
    "boozeless_rating= normalize_list(boozeless_rating)\n",
    "print(boozeless_rating)"
   ]
  },
  {
   "cell_type": "code",
   "execution_count": null,
   "metadata": {},
   "outputs": [],
   "source": [
    "reviews= df['review_sample'].tolist()\n",
    "X_train= [str(value) for value in reviews]\n",
    "\n",
    "topics= ['Ambience', 'Menu', 'Venue', 'Cocktails', 'Health', 'Food', 'Special Occasion', 'A topic different from innovative food, menu, cocktail related']\n",
    "model = 'MoritzLaurer/mDeBERTa-v3-base-xnli-multilingual-nli-2mil7'\n",
    "\n",
    "tokenizer = LongformerTokenizerFast.from_pretrained(\"allenai/longformer-base-4096\", max_length=512, padding=True, truncation=True)\n",
    "classifier = pipeline(task='zero-shot-classification', model=model, tokenizer=model)"
   ]
  },
  {
   "cell_type": "code",
   "execution_count": null,
   "metadata": {},
   "outputs": [],
   "source": [
    "print(X_train)"
   ]
  },
  {
   "cell_type": "code",
   "execution_count": null,
   "metadata": {},
   "outputs": [],
   "source": [
    "resultingclassification={}\n",
    "count=0\n",
    "for s in X_train:\n",
    "    try:\n",
    "        c= classifier(s, topics, truncation=True)\n",
    "        labels= c['labels']\n",
    "        scores= c['scores']\n",
    "\n",
    "        max_value_index = scores.index(max(scores))\n",
    "        label = labels[max_value_index]\n",
    "\n",
    "        count+=1\n",
    "        print(count)\n",
    "        resultingclassification[s]= label\n",
    "    except Exception as e:\n",
    "        resultingclassification[s]= np.nan\n",
    "        continue\n",
    "\n",
    "# print(resultingclassification)"
   ]
  },
  {
   "cell_type": "code",
   "execution_count": null,
   "metadata": {},
   "outputs": [],
   "source": [
    "topic_classification_list= [0]*len(X_train)\n",
    "\n",
    "i=0\n",
    "for key, value in resultingclassification.items():\n",
    "    if value in ['Ambience', 'Menu', 'Venue', 'Cocktails', 'Health', 'Special Occasion']:\n",
    "        topic_classification_list[i]+=1\n",
    "        i+=1\n",
    "    else:\n",
    "        i+=1\n",
    "\n",
    "# print(topic_classification_list)\n",
    "boozeless_rating = [x + y for x, y in zip(boozeless_rating, topic_classification_list)]\n",
    "boozeless_rating= normalize_list(boozeless_rating)\n",
    "print(boozeless_rating)"
   ]
  },
  {
   "cell_type": "code",
   "execution_count": null,
   "metadata": {},
   "outputs": [],
   "source": [
    "# sentiment analysis of reviews\n",
    "\n",
    "model1= AutoModelForSequenceClassification.from_pretrained('adam-chell/tweet-sentiment-analyzer')\n",
    "\n",
    "resultinglabels1={}\n",
    "classifier= pipeline('sentiment-analysis', model= model1, tokenizer= tokenizer)\n",
    "# print(len(X_train))\n",
    "for s in X_train:\n",
    "    try:\n",
    "        resultinglabels1[s]= classifier(str(s), truncation=True)\n",
    "    except Exception as e:\n",
    "        resultinglabels1[s]= np.nan\n",
    "        continue\n",
    "\n",
    "print(resultinglabels1)\n",
    "labels1=[]\n",
    "scores1=[]\n",
    "for key, value in resultinglabels1.items():\n",
    "    try:\n",
    "        labels1.append(value[0]['label'])\n",
    "        scores1.append(value[0]['score'])\n",
    "    except Exception as e:\n",
    "        labels1.append(np.nan)\n",
    "        scores1.append(np.nan)\n",
    "        continue\n",
    "\n"
   ]
  },
  {
   "cell_type": "code",
   "execution_count": null,
   "metadata": {},
   "outputs": [],
   "source": [
    "reviews_index = df.columns.get_loc('types_of_alcohol')\n",
    "words= ['Ambience', 'Environment', 'Menu', 'Venue', 'Cocktails', 'Unique', 'Health', 'Lifestyle', 'Food', 'Innovative', 'Special Occasion', 'Interesting']\n",
    "\n",
    "word_relevancy_check= [0]*len(X_train)\n",
    "print(len(word_relevancy_check))\n",
    "\n",
    "\n",
    "def count_occurences(sentence, words):\n",
    "    blob = TextBlob(sentence)\n",
    "    total_count = sum(blob.words.count(word) for word in words)\n",
    "    return total_count\n",
    "\n",
    "\n",
    "for i in range(len(X_train)):\n",
    "    if X_train[i]:\n",
    "        c= count_occurences(X_train[i], words)\n",
    "        word_relevancy_check[i]+=c\n",
    "    else:\n",
    "        pass\n",
    "    \n",
    "word_relevancy_check = normalize_list(word_relevancy_check)\n",
    "print(word_relevancy_check)"
   ]
  },
  {
   "cell_type": "code",
   "execution_count": null,
   "metadata": {},
   "outputs": [],
   "source": [
    "boozeless_rating = [x + y for x, y in zip(boozeless_rating, word_relevancy_check)]\n",
    "boozeless_rating= normalize_list(boozeless_rating)\n",
    "print(boozeless_rating)"
   ]
  },
  {
   "cell_type": "code",
   "execution_count": null,
   "metadata": {},
   "outputs": [],
   "source": [
    "buzynigghttime_index = df.columns.get_loc('busy_during_nighttime')\n",
    "buzylist= [0]*len(df)\n",
    "\n",
    "for i in range(len(df)):\n",
    "    if df.iloc[i, buzynigghttime_index]:\n",
    "        if df.iloc[i, buzynigghttime_index]==\"Yes\":\n",
    "            buzylist[i]+=1\n",
    "        else:\n",
    "            pass\n",
    "    else:\n",
    "        pass\n",
    "\n",
    "print(buzylist)\n"
   ]
  },
  {
   "cell_type": "code",
   "execution_count": null,
   "metadata": {},
   "outputs": [],
   "source": [
    "boozeless_rating = [x + y for x, y in zip(boozeless_rating, buzylist)]\n",
    "boozeless_rating= normalize_list(boozeless_rating)\n",
    "print(boozeless_rating)\n"
   ]
  },
  {
   "cell_type": "code",
   "execution_count": null,
   "metadata": {},
   "outputs": [],
   "source": [
    "df['boozeless_rating']= boozeless_rating"
   ]
  },
  {
   "cell_type": "code",
   "execution_count": null,
   "metadata": {},
   "outputs": [],
   "source": [
    "sorted_boozeless= df.sort_values(by= 'boozeless_rating', ascending=False)"
   ]
  },
  {
   "cell_type": "code",
   "execution_count": null,
   "metadata": {},
   "outputs": [],
   "source": [
    "sorted_boozeless.head(25)"
   ]
  },
  {
   "cell_type": "code",
   "execution_count": null,
   "metadata": {},
   "outputs": [],
   "source": [
    "sorted_boozeless.to_csv(\"/Users/jyotit-kaushal/github/boozeless-analytics/data/restaurants_sorted_boozeless.csv\", index= False)"
   ]
  },
  {
   "cell_type": "code",
   "execution_count": null,
   "metadata": {},
   "outputs": [],
   "source": [
    "sorted_boozeless.to_excel(\"/Users/jyotit-kaushal/github/boozeless-analytics/data/restaurants_sorted_boozeless.xlsx\", index= False)"
   ]
  }
 ],
 "metadata": {
  "kernelspec": {
   "display_name": "datasci",
   "language": "python",
   "name": "python3"
  },
  "language_info": {
   "codemirror_mode": {
    "name": "ipython",
    "version": 3
   },
   "file_extension": ".py",
   "mimetype": "text/x-python",
   "name": "python",
   "nbconvert_exporter": "python",
   "pygments_lexer": "ipython3",
   "version": "3.12.1"
  }
 },
 "nbformat": 4,
 "nbformat_minor": 2
}
